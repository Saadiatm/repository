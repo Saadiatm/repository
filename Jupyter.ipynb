{
 "cells": [
  {
   "cell_type": "markdown",
   "id": "e9bdc823-ad32-4f87-bdac-4066b70b1725",
   "metadata": {
    "tags": []
   },
   "source": [
    "<h1>My Jupyter Notebook on IBM Watson Studio</h1>"
   ]
  },
  {
   "cell_type": "markdown",
   "id": "a1d2d59e-8073-4562-8d15-d3a9464b68c9",
   "metadata": {},
   "source": [
    "<strong>Ait Mohamed Saadi </strong>"
   ]
  },
  {
   "cell_type": "markdown",
   "id": "d81aaa59-940b-45de-8ef1-0c66312ca959",
   "metadata": {},
   "source": [
    "<a>information systems engineering master's student</a>"
   ]
  },
  {
   "cell_type": "markdown",
   "id": "7cad407c-b718-4e6f-8ab7-dc99b2a6a8fd",
   "metadata": {},
   "source": [
    "<I>Mathematics is what I do best, after studying computer science, data science is what unites both fields more.</I>"
   ]
  },
  {
   "cell_type": "markdown",
   "id": "be98ff7a-fd1b-4217-8080-88be7ec9869f",
   "metadata": {},
   "source": [
    "<h3>this code print hello</h3>"
   ]
  },
  {
   "cell_type": "code",
   "execution_count": 1,
   "id": "437fb7c7-fd51-40d8-a185-3419a17f01ed",
   "metadata": {},
   "outputs": [
    {
     "name": "stdout",
     "output_type": "stream",
     "text": [
      "hello\n"
     ]
    }
   ],
   "source": [
    "print ('hello')"
   ]
  },
  {
   "cell_type": "markdown",
   "id": "d80aabee-1b07-4758-ab96-27ccd6c5b438",
   "metadata": {},
   "source": [
    "<center>\n",
    "    <img src=\"https://cf-courses-data.s3.us.cloud-object-storage.appdomain.cloud/IBMDeveloperSkillsNetwork-DS0105EN-SkillsNetwork/labs/Module2/images/SN_web_lightmode.png\" width=\"300\" alt=\"cognitiveclass.ai logo\"  />\n",
    "</center>\n",
    "<a href=\"https://dataplatform.cloud.ibm.com/gallery\">IBM Cloud Gallery</a>\n",
    "\n",
    "\n",
    "| en-tête | en-tête |\n",
    "| ------ | ------ |\n",
    "| cellulaire | cellulaire |"
   ]
  }
 ],
 "metadata": {
  "kernelspec": {
   "display_name": "Python",
   "language": "python",
   "name": "conda-env-python-py"
  },
  "language_info": {
   "codemirror_mode": {
    "name": "ipython",
    "version": 3
   },
   "file_extension": ".py",
   "mimetype": "text/x-python",
   "name": "python",
   "nbconvert_exporter": "python",
   "pygments_lexer": "ipython3",
   "version": "3.7.12"
  }
 },
 "nbformat": 4,
 "nbformat_minor": 5
}
